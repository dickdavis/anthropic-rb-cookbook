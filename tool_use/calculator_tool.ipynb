{
 "cells": [
  {
   "cell_type": "markdown",
   "id": "14fb57fa-66aa-44eb-8675-2bdcb534d9a1",
   "metadata": {},
   "source": [
    "# Using a Calculator Tool with Claude\n",
    "In this recipe, we'll demonstrate how to provide Claude with a simple calculator tool that it can use to perform arithmetic operations based on user input. We'll define the calculator tool and show how Claude can interact with it to solve mathematical problems.\n",
    "\n",
    "This recipe is a Ruby adaptation of the [original Python recipe](https://github.com/anthropics/anthropic-cookbook/blob/main/tool_use/calculator_tool.ipynb)."
   ]
  },
  {
   "cell_type": "markdown",
   "id": "4a0b6ceb-3857-426b-8de4-8feb4daffa2e",
   "metadata": {},
   "source": [
    "## Step 1: Set up the environment\n",
    "First, let's install the `anthropic-rb` gem."
   ]
  },
  {
   "cell_type": "code",
   "execution_count": 42,
   "id": "4bb501f2-244b-4e6d-a486-0e48ea94b92d",
   "metadata": {},
   "outputs": [],
   "source": [
    "require \"bundler/inline\"\n",
    "\n",
    "gemfile do\n",
    "  source \"https://rubygems.org\"\n",
    "\n",
    "  gem \"anthropic-rb\"\n",
    "end"
   ]
  },
  {
   "cell_type": "markdown",
   "id": "ef783603-fc71-4e69-85b8-c24b1cdf1ef0",
   "metadata": {},
   "source": [
    "Then, we'll initialize the library with our API key."
   ]
  },
  {
   "cell_type": "code",
   "execution_count": 43,
   "id": "fc4b19bd-0711-4b39-8c2b-1e2ea9e1f5ce",
   "metadata": {},
   "outputs": [
    {
     "data": {
      "text/plain": [
       "{:completions=>[{\"version\"=>\"2023-06-01\", \"endpoint\"=>\"/v1/complete\", \"schema\"=>{\"type\"=>\"object\", \"required\"=>[\"model\", \"prompt\", \"max_tokens_to_sample\"], \"properties\"=>{\"model\"=>{\"type\"=>\"string\"}, \"prompt\"=>{\"type\"=>\"string\"}, \"max_tokens_to_sample\"=>{\"type\"=>\"integer\"}, \"stop_sequences\"=>{\"type\"=>\"array\", \"items\"=>{\"type\"=>\"string\"}}, \"temperature\"=>{\"type\"=>\"number\"}, \"top_k\"=>{\"type\"=>\"integer\"}, \"top_p\"=>{\"type\"=>\"number\"}, \"metadata\"=>{\"type\"=>\"object\"}, \"stream\"=>{\"type\"=>\"boolean\"}}, \"additionalProperties\"=>false}}], :messages=>[{\"version\"=>\"2023-06-01\", \"endpoint\"=>\"/v1/messages\", \"schema\"=>{\"type\"=>\"object\", \"required\"=>[\"model\", \"messages\", \"max_tokens\"], \"properties\"=>{\"model\"=>{\"type\"=>\"string\"}, \"messages\"=>{\"type\"=>\"array\"}, \"max_tokens\"=>{\"type\"=>\"integer\"}, \"system\"=>{\"type\"=>\"string\"}, \"stop_sequences\"=>{\"type\"=>\"array\", \"items\"=>{\"type\"=>\"string\"}}, \"temperature\"=>{\"type\"=>\"number\"}, \"top_k\"=>{\"type\"=>\"integer\"}, \"top_p\"=>{\"type\"=>\"number\"}, \"metadata\"=>{\"type\"=>\"object\"}, \"stream\"=>{\"type\"=>\"boolean\"}}, \"additionalProperties\"=>false}}]}"
      ]
     },
     "execution_count": 43,
     "metadata": {},
     "output_type": "execute_result"
    }
   ],
   "source": [
    "require 'anthropic'\n",
    "\n",
    "Anthropic.setup do |config|\n",
    "  config.api_key = ENV.fetch('ANTHROPIC_API_KEY')\n",
    "end"
   ]
  },
  {
   "cell_type": "markdown",
   "id": "db544199-f7e4-433c-aca7-ed7ede1e4182",
   "metadata": {},
   "source": [
    "## Step 2: Define the calculator tool\n",
    "We'll define a simple calculator tool that can perform basic arithmetic operations. The tool will take a mathematical expression as input and return the result.\n",
    "\n",
    "Note that we are calling eval on the outputted expression. This is bad practice and should not be used generally but we are doing it for the purpose of demonstration."
   ]
  },
  {
   "cell_type": "code",
   "execution_count": 44,
   "id": "6abb3dfa-775d-4413-be2d-24a540cf2b60",
   "metadata": {},
   "outputs": [
    {
     "data": {
      "text/plain": [
       ":calculate"
      ]
     },
     "execution_count": 44,
     "metadata": {},
     "output_type": "execute_result"
    }
   ],
   "source": [
    "def calculate(expression)\n",
    "  # Remove any non-digit or non-operator characters from the expression\n",
    "  expression = expression.gsub(/[^0-9+\\-*\\/().]/i, '')\n",
    "  \n",
    "  begin\n",
    "    # Evaluate the expression using the built-in eval() function\n",
    "    result = eval(expression)\n",
    "    result.to_s\n",
    "  rescue SyntaxError, ZeroDivisionError, NameError, TypeError, FloatDomainError\n",
    "    \"Error: Invalid expression\"\n",
    "  end\n",
    "end"
   ]
  },
  {
   "cell_type": "markdown",
   "id": "e0014082-0891-43d8-8477-541b85eb1c3b",
   "metadata": {},
   "source": [
    "We then define the calculator tool with an input schema that expects a single expression property of type string."
   ]
  },
  {
   "cell_type": "code",
   "execution_count": 45,
   "id": "dfab7bd6-2ab4-460d-91b8-ddfd0bc2b2c9",
   "metadata": {},
   "outputs": [
    {
     "data": {
      "text/plain": [
       "[{:name=>\"calculator\", :description=>\"A simple calculator that performs basic arithmetic operations.\", :input_schema=>{:type=>\"object\", :properties=>{:expression=>{:type=>\"string\", :description=>\"The mathematical expression to evaluate (e.g., '2 + 3 * 4').\"}}, :required=>[\"expression\"]}}]"
      ]
     },
     "execution_count": 45,
     "metadata": {},
     "output_type": "execute_result"
    }
   ],
   "source": [
    "@tools = [\n",
    "    {\n",
    "        \"name\": \"calculator\",\n",
    "        \"description\": \"A simple calculator that performs basic arithmetic operations.\",\n",
    "        \"input_schema\": {\n",
    "            \"type\": \"object\",\n",
    "            \"properties\": {\n",
    "                \"expression\": {\n",
    "                    \"type\": \"string\",\n",
    "                    \"description\": \"The mathematical expression to evaluate (e.g., '2 + 3 * 4').\"\n",
    "                }\n",
    "            },\n",
    "            \"required\": [\"expression\"]\n",
    "        }\n",
    "    }\n",
    "]"
   ]
  },
  {
   "cell_type": "markdown",
   "id": "73cdeaf8-a979-44d5-be92-880ca2b06500",
   "metadata": {},
   "source": [
    "## Step 3: Interact with Claude\n",
    "Now, let's see how Claude can interact with the calculator tool to solve mathematical problems."
   ]
  },
  {
   "cell_type": "code",
   "execution_count": 46,
   "id": "ebeb844c-794b-4ba4-a765-36edfa00e823",
   "metadata": {},
   "outputs": [
    {
     "data": {
      "text/plain": [
       ":chat_with_claude"
      ]
     },
     "execution_count": 46,
     "metadata": {},
     "output_type": "execute_result"
    }
   ],
   "source": [
    "def chat_with_claude(user_message)\n",
    "  puts(\"#{'=' * 50}\\nUser Message: #{user_message}\\n#{'=' * 50}\")\n",
    "  message = Anthropic.messages(beta: 'tools-2024-04-04').create(\n",
    "    model: 'claude-3-opus-20240229',\n",
    "    max_tokens: 200,\n",
    "    tools: @tools,\n",
    "    messages: [{ role: 'user', content: user_message }]\n",
    "  )\n",
    "  puts(\"\\nInitial Response:\")\n",
    "  puts(\"Stop Reason: #{message[:stop_reason]}\")\n",
    "  puts(\"Content: #{message[:content]}\")\n",
    "\n",
    "  if message[:stop_reason] == 'tool_use'\n",
    "    tool_use_block = message[:content].find { |block| block[:type] == 'tool_use' }\n",
    "    puts(\"\\nTool Used: #{tool_use_block[:name]}\")\n",
    "    puts(\"Tool Input: #{tool_use_block[:input]}\")\n",
    "    tool_result = if tool_use_block[:name] == 'calculator'\n",
    "                    calculate(tool_use_block[:input][:expression])\n",
    "                  else\n",
    "                    nil\n",
    "                  end\n",
    "      \n",
    "    puts(\"Tool Result: #{tool_result}\")\n",
    "    response = Anthropic.messages(beta: 'tools-2024-04-04').create(\n",
    "      model: 'claude-3-opus-20240229',\n",
    "      max_tokens: 200,\n",
    "      tools: @tools,\n",
    "      messages: [\n",
    "        { role: 'user', content: user_message },\n",
    "        { role: 'assistant', content: message[:content] },\n",
    "        {\n",
    "          role: 'user',\n",
    "          content: [\n",
    "            {\n",
    "              type: 'tool_result',\n",
    "              tool_use_id: tool_use_block[:id],\n",
    "              content: tool_result\n",
    "            }\n",
    "          ]\n",
    "        }\n",
    "      ]\n",
    "    )\n",
    "    puts(\"\\nFinal Response: #{response[:content]}\\n\")\n",
    "  end\n",
    "end\n",
    "  "
   ]
  },
  {
   "cell_type": "markdown",
   "id": "d483a59a-f473-4271-ba76-a2ade4ec26e5",
   "metadata": {},
   "source": [
    "## Step 4: Try it out!\n",
    "Let's try giving Claude a few example math questions now that it has access to a calculator."
   ]
  },
  {
   "cell_type": "code",
   "execution_count": 47,
   "id": "e7959da6-bee6-4d23-b266-588de8f9911d",
   "metadata": {},
   "outputs": [
    {
     "name": "stdout",
     "output_type": "stream",
     "text": [
      "==================================================\n",
      "User Message: What is the result of 1,984,135 * 9,343,116?\n",
      "==================================================\n",
      "\n",
      "Initial Response:\n",
      "Stop Reason: tool_use\n",
      "Content: [{:type=>\"text\", :text=>\"<thinking>\\nTo answer this question, I will need to use the calculator tool.\\nThe calculator tool takes a parameter \\\"expression\\\" which represents the mathematical expression to evaluate. \\nThe user has provided the mathematical expression \\\"1,984,135 * 9,343,116\\\" directly in their query.\\nSo I have the necessary parameter value to call the calculator tool.\\n</thinking>\"}, {:type=>\"tool_use\", :id=>\"toolu_01JzKqaDpCNZBGvMNaBCQ2hT\", :name=>\"calculator\", :input=>{:expression=>\"1984135 * 9343116\"}}]\n",
      "\n",
      "Tool Used: calculator\n",
      "Tool Input: {:expression=>\"1984135 * 9343116\"}\n",
      "Tool Result: 18538003464660\n",
      "\n",
      "Final Response: [{:type=>\"text\", :text=>\"The result of multiplying 1,984,135 by 9,343,116 is 18,538,003,464,660.\"}]\n",
      "==================================================\n",
      "User Message: Calculate (12851 - 593) * 301 + 76\n",
      "==================================================\n",
      "\n",
      "Initial Response:\n",
      "Stop Reason: tool_use\n",
      "Content: [{:type=>\"text\", :text=>\"<thinking>\\nTo answer this math query, the user has directly provided everything needed for the calculator() tool:\\nExpression: \\\"(12851 - 593) * 301 + 76\\\"\\nThis expression contains the full calculation to perform. All the required parameters are given, so I can proceed with the tool.\\n</thinking>\"}, {:type=>\"tool_use\", :id=>\"toolu_01JvxZVDVq7o2N9q3Kx5m56Z\", :name=>\"calculator\", :input=>{:expression=>\"(12851 - 593) * 301 + 76\"}}]\n",
      "\n",
      "Tool Used: calculator\n",
      "Tool Input: {:expression=>\"(12851 - 593) * 301 + 76\"}\n",
      "Tool Result: 3689734\n",
      "\n",
      "Final Response: [{:type=>\"text\", :text=>\"Therefore, (12851 - 593) * 301 + 76 = 3689734\"}]\n",
      "==================================================\n",
      "User Message: What is 15910385 divided by 193053?\n",
      "==================================================\n",
      "\n",
      "Initial Response:\n",
      "Stop Reason: tool_use\n",
      "Content: [{:type=>\"text\", :text=>\"<thinking>\\nThe user has provided a simple arithmetic expression \\\"15910385 divided by 193053\\\". To evaluate this, the calculator tool is the most relevant.\\nThe calculator tool requires a single parameter:\\n- expression (string): The mathematical expression to evaluate\\nThe user directly provided the expression to evaluate in their request, so we have all the required information to call the calculator tool.\\n</thinking>\"}, {:type=>\"tool_use\", :id=>\"toolu_01FE2wJimdu7xQj8L2dBD3Ka\", :name=>\"calculator\", :input=>{:expression=>\"15910385 / 193053\"}}]\n",
      "\n",
      "Tool Used: calculator\n",
      "Tool Input: {:expression=>\"15910385 / 193053\"}\n",
      "Tool Result: 82\n",
      "\n",
      "Final Response: [{:type=>\"text\", :text=>\"Therefore, 15910385 divided by 193053 equals 82.\"}]\n"
     ]
    }
   ],
   "source": [
    "chat_with_claude(\"What is the result of 1,984,135 * 9,343,116?\")\n",
    "chat_with_claude(\"Calculate (12851 - 593) * 301 + 76\")\n",
    "chat_with_claude(\"What is 15910385 divided by 193053?\")"
   ]
  },
  {
   "cell_type": "code",
   "execution_count": null,
   "id": "ba0b75f6-e36c-48f0-a02d-403227436510",
   "metadata": {},
   "outputs": [],
   "source": []
  }
 ],
 "metadata": {
  "kernelspec": {
   "display_name": "Ruby 3.2.2",
   "language": "ruby",
   "name": "ruby"
  },
  "language_info": {
   "file_extension": ".rb",
   "mimetype": "application/x-ruby",
   "name": "ruby",
   "version": "3.2.2"
  }
 },
 "nbformat": 4,
 "nbformat_minor": 5
}
